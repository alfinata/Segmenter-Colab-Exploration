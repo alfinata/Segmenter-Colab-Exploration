{
  "cells": [
    {
      "cell_type": "code",
      "source": [
        "# Load Libraries\n",
        "from PIL import Image\n",
        "from numpy import asarray\n",
        "import numpy as np\n",
        "import os.path\n",
        "from os import path\n",
        "import matplotlib.pyplot as plt\n",
        "import pandas as pd\n",
        "\n",
        "# Mapper\n",
        "mapper = [0,  21,  42,  63,  85, 106, 127, 148, 170, 191, 212, 233, 255]\n",
        "\n",
        "# Main Function\n",
        "def convertToText(data, count):\n",
        "\n",
        "  # Converting pixel value to class value\n",
        "  newData = ''\n",
        "  for y in range(np.size(data, 0)):\n",
        "    for x in range(np.size(data[1], 0)):\n",
        "      if data[y][x][0] in mapper:\n",
        "        output = np.where(mapper == data[y][x][0])\n",
        "        newData = newData + ' ' + str(output[0][0])\n",
        "    newData = newData + '\\n'\n",
        "\n",
        "  # Saving file to txt\n",
        "  text_file = open(\"/content/output/{}.txt\".format(count), \"w\")\n",
        "  text_file.write(newData)\n",
        "  text_file.close()\n",
        "\n",
        "# Create folders for easy access\n",
        "if path.exists('/content/input') == False:\n",
        "  os.mkdir('/content/input')\n",
        "if path.exists('/content/output') == False:\n",
        "  os.mkdir('/content/output')\n",
        "\n",
        "# Upload your input.zip to content folder\n",
        "# Images in your input folder need to be ordered starting from 0.png to 1.png, 2.png, and so on"
      ],
      "metadata": {
        "id": "brvaOSwU4s1u"
      },
      "execution_count": null,
      "outputs": []
    },
    {
      "cell_type": "code",
      "source": [
        "# Unzipping your images\n",
        "!unzip /content/input.zip -d /content/input"
      ],
      "metadata": {
        "id": "sJYnN43MSMkW"
      },
      "execution_count": null,
      "outputs": []
    },
    {
      "cell_type": "code",
      "source": [
        "# Check your image\n",
        "img = plt.imread('/content/input/0.png')\n",
        "plt.imshow(img)"
      ],
      "metadata": {
        "colab": {
          "base_uri": "https://localhost:8080/",
          "height": 286
        },
        "id": "cXS-b4OMOsZ0",
        "outputId": "aa1c1d3d-a10e-4f11-b26c-6f800422b986"
      },
      "execution_count": null,
      "outputs": [
        {
          "output_type": "execute_result",
          "data": {
            "text/plain": [
              "<matplotlib.image.AxesImage at 0x7fe182326af0>"
            ]
          },
          "metadata": {},
          "execution_count": 3
        },
        {
          "output_type": "display_data",
          "data": {
            "text/plain": [
              "<Figure size 432x288 with 1 Axes>"
            ],
            "image/png": "[encoded data removed]"
          },
          "metadata": {
            "needs_background": "light"
          }
        }
      ]
    },
    {
      "cell_type": "code",
      "source": [
        "# <CHANGE THIS TO CHANGE HOW MANY MASKS TO CONVERT>\n",
        "dataCount = 74\n",
        "\n",
        "# Converting mask to txt\n",
        "for x in range(dataCount):\n",
        "  convertToText(asarray(Image.open('/content/input/{}.png'.format(x))), x)"
      ],
      "metadata": {
        "id": "3DkQ0IzoIzP3"
      },
      "execution_count": null,
      "outputs": []
    },
    {
      "cell_type": "code",
      "source": [
        "# Zipping result to output.zip for easy download\n",
        "!zip -r output.zip /content/output/"
      ],
      "metadata": {
        "colab": {
          "base_uri": "https://localhost:8080/"
        },
        "id": "o7EOZWlYRpk3",
        "outputId": "a07123e1-ab1c-4408-cecc-fd46abc63ba0"
      },
      "execution_count": null,
      "outputs": [
        {
          "output_type": "stream",
          "name": "stdout",
          "text": [
            "  adding: content/output/ (stored 0%)\n",
            "  adding: content/output/31.txt (deflated 98%)\n",
            "  adding: content/output/46.txt (deflated 98%)\n",
            "  adding: content/output/1.txt (deflated 98%)\n",
            "  adding: content/output/60.txt (deflated 98%)\n",
            "  adding: content/output/4.txt (deflated 98%)\n",
            "  adding: content/output/40.txt (deflated 98%)\n",
            "  adding: content/output/70.txt (deflated 98%)\n",
            "  adding: content/output/64.txt (deflated 98%)\n",
            "  adding: content/output/61.txt (deflated 98%)\n",
            "  adding: content/output/47.txt (deflated 99%)\n",
            "  adding: content/output/23.txt (deflated 98%)\n",
            "  adding: content/output/58.txt (deflated 98%)\n",
            "  adding: content/output/44.txt (deflated 98%)\n",
            "  adding: content/output/17.txt (deflated 98%)\n",
            "  adding: content/output/5.txt (deflated 98%)\n",
            "  adding: content/output/25.txt (deflated 98%)\n",
            "  adding: content/output/26.txt (deflated 98%)\n",
            "  adding: content/output/32.txt (deflated 98%)\n",
            "  adding: content/output/35.txt (deflated 98%)\n",
            "  adding: content/output/11.txt (deflated 98%)\n",
            "  adding: content/output/19.txt (deflated 98%)\n",
            "  adding: content/output/33.txt (deflated 98%)\n",
            "  adding: content/output/39.txt (deflated 98%)\n",
            "  adding: content/output/30.txt (deflated 98%)\n",
            "  adding: content/output/41.txt (deflated 98%)\n",
            "  adding: content/output/55.txt (deflated 98%)\n",
            "  adding: content/output/10.txt (deflated 98%)\n",
            "  adding: content/output/16.txt (deflated 98%)\n",
            "  adding: content/output/14.txt (deflated 98%)\n",
            "  adding: content/output/36.txt (deflated 98%)\n",
            "  adding: content/output/59.txt (deflated 98%)\n",
            "  adding: content/output/53.txt (deflated 98%)\n",
            "  adding: content/output/13.txt (deflated 98%)\n",
            "  adding: content/output/52.txt (deflated 98%)\n",
            "  adding: content/output/37.txt (deflated 98%)\n",
            "  adding: content/output/8.txt (deflated 98%)\n",
            "  adding: content/output/49.txt (deflated 98%)\n",
            "  adding: content/output/51.txt (deflated 98%)\n",
            "  adding: content/output/7.txt (deflated 98%)\n",
            "  adding: content/output/2.txt (deflated 98%)\n",
            "  adding: content/output/27.txt (deflated 98%)\n",
            "  adding: content/output/28.txt (deflated 98%)\n",
            "  adding: content/output/72.txt (deflated 98%)\n",
            "  adding: content/output/22.txt (deflated 98%)\n",
            "  adding: content/output/15.txt (deflated 98%)\n",
            "  adding: content/output/50.txt (deflated 98%)\n",
            "  adding: content/output/71.txt (deflated 98%)\n",
            "  adding: content/output/54.txt (deflated 98%)\n",
            "  adding: content/output/56.txt (deflated 98%)\n",
            "  adding: content/output/73.txt (deflated 98%)\n",
            "  adding: content/output/63.txt (deflated 98%)\n",
            "  adding: content/output/3.txt (deflated 98%)\n",
            "  adding: content/output/6.txt (deflated 98%)\n",
            "  adding: content/output/45.txt (deflated 98%)\n",
            "  adding: content/output/9.txt (deflated 98%)\n",
            "  adding: content/output/29.txt (deflated 98%)\n",
            "  adding: content/output/57.txt (deflated 98%)\n",
            "  adding: content/output/34.txt (deflated 98%)\n",
            "  adding: content/output/62.txt (deflated 98%)\n",
            "  adding: content/output/48.txt (deflated 98%)\n",
            "  adding: content/output/65.txt (deflated 98%)\n",
            "  adding: content/output/66.txt (deflated 98%)\n",
            "  adding: content/output/43.txt (deflated 98%)\n",
            "  adding: content/output/42.txt (deflated 98%)\n",
            "  adding: content/output/38.txt (deflated 98%)\n",
            "  adding: content/output/67.txt (deflated 98%)\n",
            "  adding: content/output/0.txt (deflated 98%)\n",
            "  adding: content/output/69.txt (deflated 98%)\n",
            "  adding: content/output/68.txt (deflated 98%)\n",
            "  adding: content/output/21.txt (deflated 98%)\n",
            "  adding: content/output/24.txt (deflated 98%)\n",
            "  adding: content/output/12.txt (deflated 98%)\n",
            "  adding: content/output/20.txt (deflated 98%)\n",
            "  adding: content/output/18.txt (deflated 98%)\n"
          ]
        }
      ]
    }
  ],
  "metadata": {
    "kernelspec": {
      "display_name": "Python 3.10.6 ('myenv')",
      "language": "python",
      "name": "python3"
    },
    "language_info": {
      "codemirror_mode": {
        "name": "ipython",
        "version": 3
      },
      "file_extension": ".py",
      "mimetype": "text/x-python",
      "name": "python",
      "nbconvert_exporter": "python",
      "pygments_lexer": "ipython3",
      "version": "3.10.6"
    },
    "orig_nbformat": 4,
    "vscode": {
      "interpreter": {
        "hash": "c54786cc974772a7cebccdda9a2a423a37310c7a5aaec79bf0d7e15185866c86"
      }
    },
    "colab": {
      "provenance": []
    }
  },
  "nbformat": 4,
  "nbformat_minor": 0
}